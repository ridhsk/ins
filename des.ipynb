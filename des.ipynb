{
 "cells": [
  {
   "cell_type": "code",
   "execution_count": 1,
   "id": "4da5e5dc-a11a-41da-b51f-87082c0a99a3",
   "metadata": {},
   "outputs": [
    {
     "name": "stdin",
     "output_type": "stream",
     "text": [
      "Enter any string:  hey\n"
     ]
    },
    {
     "name": "stdout",
     "output_type": "stream",
     "text": [
      "Key  1  =  111010011000\n",
      "Key  2  =  111010001100\n",
      "Key  3  =  100000110000\n",
      "Key  4  =  000011000000\n",
      "Key  5  =  111110100110\n",
      "Key  6  =  101000010000\n",
      "Key  7  =  110100001000\n",
      "Key  8  =  100000000000\n"
     ]
    }
   ],
   "source": [
    "import random\n",
    "s = input(\"Enter any string: \")\n",
    "result = ''.join(format(ord(i),'08b') for i in s)\n",
    "answer = \"\"\n",
    "for i in range(len(result)):\n",
    "    if(i%8 !=0):\n",
    "        answer+=result[i]\n",
    "l = int(len(answer)/2)\n",
    "left = answer[:l]\n",
    "right = answer[l:]\n",
    "lt = [2,3,6,7,1,6,5,9]\n",
    "keys = []\n",
    "for i in range(0,8):\n",
    "    newKey = \"\"\n",
    "    newAnswer = \"\"\n",
    "    nl=int(left,2)\n",
    "    nl=bin(nl <<lt[i])\n",
    "    num=2+lt[i]\n",
    "    nr = int(right,2)\n",
    "    nr = bin(nr <<lt[i])\n",
    "    num=2+lt[i]\n",
    "    newKey = nr[num:]+nl[num:]\n",
    "    rm =[]\n",
    "    while(len(rm) !=8):\n",
    "        r = random.randint(0,len(newKey)-1)\n",
    "        if(r not in rm):\n",
    "            rm.append(r)\n",
    "    for i in range(len(newKey)):\n",
    "        if(i not in rm):\n",
    "            newAnswer+=newKey[i]\n",
    "    keys.append(newAnswer)\n",
    "for i in range(0,len(keys)):\n",
    "    print(\"Key \",i+1,\" = \",keys[i])"
   ]
  },
  {
   "cell_type": "code",
   "execution_count": null,
   "id": "4b52bed2-055f-4b72-8268-45c86572fbb3",
   "metadata": {},
   "outputs": [],
   "source": []
  }
 ],
 "metadata": {
  "kernelspec": {
   "display_name": "Python 3 (ipykernel)",
   "language": "python",
   "name": "python3"
  },
  "language_info": {
   "codemirror_mode": {
    "name": "ipython",
    "version": 3
   },
   "file_extension": ".py",
   "mimetype": "text/x-python",
   "name": "python",
   "nbconvert_exporter": "python",
   "pygments_lexer": "ipython3",
   "version": "3.12.6"
  }
 },
 "nbformat": 4,
 "nbformat_minor": 5
}
